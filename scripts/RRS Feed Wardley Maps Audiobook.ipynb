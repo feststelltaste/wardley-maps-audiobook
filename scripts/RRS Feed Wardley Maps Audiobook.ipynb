{
 "cells": [
  {
   "cell_type": "code",
   "execution_count": null,
   "id": "3eea2c99",
   "metadata": {},
   "outputs": [],
   "source": [
    "import requests\n",
    "html_text = requests.get(\"https://feststelltaste.github.io/wardley-maps-audiobook\").text\n",
    "html_text[:200]"
   ]
  },
  {
   "cell_type": "code",
   "execution_count": null,
   "id": "9d2a78e2",
   "metadata": {},
   "outputs": [],
   "source": [
    "rss = \"\"\n",
    "\n",
    "before = \"\"\"<?xml version=\"1.0\" encoding=\"UTF-8\" ?>\n",
    "<rss version=\"2.0\">\n",
    "<channel>\n",
    "  <title>Wardley Maps - Audiobook - Female voice version</title>\n",
    "  <link>https://feststelltaste.github.io/wardley-maps-audiobook/</link>\n",
    "  <description>Audio version of Simon Wardley's book \"Wardley Maps – Topographical intelligence in business\"</description>\"\"\"\n",
    "\n",
    "after = \"\"\"</channel>\n",
    "</rss>\"\"\"\n",
    "\n"
   ]
  },
  {
   "cell_type": "code",
   "execution_count": null,
   "id": "9e71426f",
   "metadata": {},
   "outputs": [],
   "source": [
    "import html\n",
    "from bs4 import BeautifulSoup\n",
    "results = BeautifulSoup(html_text)\n",
    "entries = results.findAll(\"div\", {\"class\" : \"title\"})\n",
    "\n",
    "rss = before\n",
    "\n",
    "for entry in entries:\n",
    "    rss += \"\\n    <item>\"\n",
    "    title = entry.text.split(\"\\n\")[0]\n",
    "    rss += \"\\n      <title>\" + html.escape(title) + \"</title>\"\n",
    "    url = entry.find(\"a\", class_=\"female\")['href']\n",
    "    rss += \"\\n      <link>\" + html.escape(url)+ \"</link>\"\n",
    "    rss += \"\\n    </item>\"\n",
    "    \n",
    "rss += after"
   ]
  },
  {
   "cell_type": "code",
   "execution_count": null,
   "id": "e171f829",
   "metadata": {},
   "outputs": [],
   "source": [
    "with open(\"rss_female.xml\", mode=\"w\") as out:\n",
    "    out.write(rss)"
   ]
  }
 ],
 "metadata": {
  "kernelspec": {
   "display_name": "Python 3 (ipykernel)",
   "language": "python",
   "name": "python3"
  },
  "language_info": {
   "codemirror_mode": {
    "name": "ipython",
    "version": 3
   },
   "file_extension": ".py",
   "mimetype": "text/x-python",
   "name": "python",
   "nbconvert_exporter": "python",
   "pygments_lexer": "ipython3",
   "version": "3.9.7"
  }
 },
 "nbformat": 4,
 "nbformat_minor": 5
}
